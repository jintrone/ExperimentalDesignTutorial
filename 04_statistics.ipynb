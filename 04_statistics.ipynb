{
 "cells": [
  {
   "cell_type": "markdown",
   "metadata": {},
   "source": [
    "### Introduction to Statistics: Central Tendencies and Variability\n",
    "\n",
    "When scientists conduct experiments, they collect a lot of data. To make sense of this data, they use statistics, which are like tools that help us summarize, analyze, and interpret our findings. Two fundamental concepts in statistics are **central tendencies** and **variability**.\n",
    "\n",
    "- **Central Tendencies** tell us about the average or most common values in our data. They give us a single number that represents the whole dataset, helping us understand what's typical or normal.\n",
    "- **Variability** describes how spread out or scattered the data points are. It tells us how much the data differ from each other and from the average.\n",
    "\n",
    "By understanding both the central tendency and variability of data, researchers can get a clear and concise summary of their data, which is crucial for making scientific conclusions.\n",
    "\n",
    "### Sample Dataset\n",
    "\n",
    "Let's say we conducted an experiment to measure the height (in cm) of bean plants grown under different colored lights over a month, varying the number of hours of exposure.  Our hypothesis here is that plants need longer exposure to longer wavelengths of light to grow effectively because longer wavelength length contains less energy.  In our experiment, we examine 10 different plants at each level of light exposure and light color, with 5 different levels of light exposure.\n",
    "\n",
    "The following is some Python code we've used to generate the data."
   ]
  },
  {
   "cell_type": "code",
   "execution_count": 1,
   "metadata": {},
   "outputs": [
    {
     "name": "stderr",
     "output_type": "stream",
     "text": [
      "/tmp/ipykernel_4703/3564430451.py:2: DeprecationWarning: \n",
      "Pyarrow will become a required dependency of pandas in the next major release of pandas (pandas 3.0),\n",
      "(to allow more performant data types, such as the Arrow string type, and better interoperability with other libraries)\n",
      "but was not found to be installed on your system.\n",
      "If this would cause problems for you,\n",
      "please provide us feedback at https://github.com/pandas-dev/pandas/issues/54466\n",
      "        \n",
      "  import pandas as pd\n"
     ]
    },
    {
     "data": {
      "text/html": [
       "<div>\n",
       "<style scoped>\n",
       "    .dataframe tbody tr th:only-of-type {\n",
       "        vertical-align: middle;\n",
       "    }\n",
       "\n",
       "    .dataframe tbody tr th {\n",
       "        vertical-align: top;\n",
       "    }\n",
       "\n",
       "    .dataframe thead th {\n",
       "        text-align: right;\n",
       "    }\n",
       "</style>\n",
       "<table border=\"1\" class=\"dataframe\">\n",
       "  <thead>\n",
       "    <tr style=\"text-align: right;\">\n",
       "      <th></th>\n",
       "      <th>Hours_of_Light</th>\n",
       "      <th>Growth_cm</th>\n",
       "      <th>Light_Color</th>\n",
       "    </tr>\n",
       "  </thead>\n",
       "  <tbody>\n",
       "    <tr>\n",
       "      <th>0</th>\n",
       "      <td>4</td>\n",
       "      <td>6.496714</td>\n",
       "      <td>Red</td>\n",
       "    </tr>\n",
       "    <tr>\n",
       "      <th>1</th>\n",
       "      <td>6</td>\n",
       "      <td>8.861736</td>\n",
       "      <td>Red</td>\n",
       "    </tr>\n",
       "    <tr>\n",
       "      <th>2</th>\n",
       "      <td>8</td>\n",
       "      <td>12.647689</td>\n",
       "      <td>Red</td>\n",
       "    </tr>\n",
       "    <tr>\n",
       "      <th>3</th>\n",
       "      <td>10</td>\n",
       "      <td>16.523030</td>\n",
       "      <td>Red</td>\n",
       "    </tr>\n",
       "    <tr>\n",
       "      <th>4</th>\n",
       "      <td>12</td>\n",
       "      <td>17.765847</td>\n",
       "      <td>Red</td>\n",
       "    </tr>\n",
       "    <tr>\n",
       "      <th>...</th>\n",
       "      <td>...</td>\n",
       "      <td>...</td>\n",
       "      <td>...</td>\n",
       "    </tr>\n",
       "    <tr>\n",
       "      <th>95</th>\n",
       "      <td>4</td>\n",
       "      <td>5.336485</td>\n",
       "      <td>Blue</td>\n",
       "    </tr>\n",
       "    <tr>\n",
       "      <th>96</th>\n",
       "      <td>6</td>\n",
       "      <td>10.496120</td>\n",
       "      <td>Blue</td>\n",
       "    </tr>\n",
       "    <tr>\n",
       "      <th>97</th>\n",
       "      <td>8</td>\n",
       "      <td>13.861055</td>\n",
       "      <td>Blue</td>\n",
       "    </tr>\n",
       "    <tr>\n",
       "      <th>98</th>\n",
       "      <td>10</td>\n",
       "      <td>17.005113</td>\n",
       "      <td>Blue</td>\n",
       "    </tr>\n",
       "    <tr>\n",
       "      <th>99</th>\n",
       "      <td>12</td>\n",
       "      <td>20.165413</td>\n",
       "      <td>Blue</td>\n",
       "    </tr>\n",
       "  </tbody>\n",
       "</table>\n",
       "<p>100 rows × 3 columns</p>\n",
       "</div>"
      ],
      "text/plain": [
       "    Hours_of_Light  Growth_cm Light_Color\n",
       "0                4   6.496714         Red\n",
       "1                6   8.861736         Red\n",
       "2                8  12.647689         Red\n",
       "3               10  16.523030         Red\n",
       "4               12  17.765847         Red\n",
       "..             ...        ...         ...\n",
       "95               4   5.336485        Blue\n",
       "96               6  10.496120        Blue\n",
       "97               8  13.861055        Blue\n",
       "98              10  17.005113        Blue\n",
       "99              12  20.165413        Blue\n",
       "\n",
       "[100 rows x 3 columns]"
      ]
     },
     "execution_count": 1,
     "metadata": {},
     "output_type": "execute_result"
    }
   ],
   "source": [
    "import numpy as np\n",
    "import pandas as pd\n",
    "\n",
    "# Setting a random seed for reproducibility\n",
    "np.random.seed(42)\n",
    "\n",
    "# Generating sample data\n",
    "# Hours of exposure to light per day (5 levels: 4, 6, 8, 10, 12 hours)\n",
    "hours_of_light = np.tile([4, 6, 8, 10, 12], 10)\n",
    "\n",
    "# Simulating plant growth under red light\n",
    "# Assuming red light promotes slightly less growth compared to blue light\n",
    "growth_under_red = np.random.normal(loc=hours_of_light * 1.5, scale=1.0, size=hours_of_light.shape[0])\n",
    "\n",
    "# Simulating plant growth under blue light\n",
    "# Assuming blue light promotes more growth\n",
    "growth_under_blue = np.random.normal(loc=hours_of_light * 1.7, scale=1.0, size=hours_of_light.shape[0])\n",
    "\n",
    "# Compiling data into a DataFrame\n",
    "data = pd.DataFrame({\n",
    "    'Hours_of_Light': np.concatenate([hours_of_light, hours_of_light]),\n",
    "    'Growth_cm': np.concatenate([growth_under_red, growth_under_blue]),\n",
    "    'Light_Color': ['Red'] * 50 + ['Blue'] * 50\n",
    "})\n",
    "\n",
    "data"
   ]
  },
  {
   "cell_type": "markdown",
   "metadata": {},
   "source": [
    "### Overview of Measures\n",
    "\n",
    "1. **Measures of Central Tendency:**\n",
    "   - **Mean:** The average height of the plants.\n",
    "   - **Median:** The middle value when the heights are ordered from lowest to highest.\n",
    "   - **Mode:** The most frequently occurring height in the dataset.\n",
    "\n",
    "2. **Line of Best Fit:** A straight line that best represents the data in a scatter plot.\n",
    "\n",
    "3. **Percent Error:** Used to compare the expected (theoretical) value to the actual (experimental) value.\n",
    "\n",
    "4. **Measures of Variability:**\n",
    "   - **Standard Deviation:** Indicates how much the heights of the plants vary from the average height.\n",
    "   - **Interquartile Range (IQR):** The range of the middle 50% of the heights.\n",
    "   - **Range:** The difference between the tallest and shortest plant.\n",
    "   - **Frequency Table and Histogram:** Helps visualize how often different heights occur."
   ]
  },
  {
   "cell_type": "markdown",
   "metadata": {},
   "source": [
    "### Measures of Central Tendency: Mean, Median, and Mode\n",
    "\n",
    "Central tendency measures give us a central or typical value for a set of data. They are crucial for summarizing a large dataset with a single value that represents the entire distribution. We'll explore three primary measures: **mean**, **median**, and **mode**.\n",
    "\n",
    "#### 1. Mean (Arithmetic Average)\n",
    "\n",
    "- **Explanation:** The mean is the sum of all values divided by the count of values. It provides the average value of the dataset.\n",
    "- **Mathematical Calculation:** \n",
    "  $$\n",
    "  \\text{Mean} = \\frac{\\sum_{i=1}^{n} x_i}{n}\n",
    "  $$\n",
    "  where $x_i$ represents each value in the dataset, and $n$ is the total number of values.\n",
    "  \n",
    "- **Example:**\n",
    "  - Data: 2, 3, 5, 7, 11\n",
    "  - Calculation: Mean = (2 + 3 + 5 + 7 + 11) / 5 = 28 / 5 = 5.6"
   ]
  },
  {
   "cell_type": "code",
   "execution_count": 2,
   "metadata": {},
   "outputs": [
    {
     "name": "stdout",
     "output_type": "stream",
     "text": [
      "Mean Growth: 12.696153482605904\n"
     ]
    }
   ],
   "source": [
    "import pandas as pd\n",
    "  \n",
    "# Assuming 'data' is your DataFrame\n",
    "mean_growth = data['Growth_cm'].mean()\n",
    "print(\"Mean Growth:\", mean_growth)"
   ]
  },
  {
   "cell_type": "markdown",
   "metadata": {},
   "source": [
    "\n",
    "\n",
    "#### 2. Median (Middle Value)\n",
    "\n",
    "- **Explanation:** The median is the middle number in a sorted, ascending or descending, list of numbers. It divides the dataset into two equal halves.\n",
    "- **Mathematical Calculation:** Sort the data. If $n$ is odd, the median is the middle number. If $n$ is even, the median is the average of the two middle numbers.\n",
    "  \n",
    "- **Toy Example:**\n",
    "  - Data: 3, 1, 4, 15, 9\n",
    "  - Sorted Data: 1, 3, 4, 9, 15\n",
    "  - Calculation: Median = 4 (the middle number in the sorted list)\n",
    "  \n",
    "- **Example:**"
   ]
  },
  {
   "cell_type": "code",
   "execution_count": 3,
   "metadata": {},
   "outputs": [
    {
     "name": "stdout",
     "output_type": "stream",
     "text": [
      "Median Growth: 12.83269081763778\n"
     ]
    }
   ],
   "source": [
    "median_growth = data['Growth_cm'].median()\n",
    "print(\"Median Growth:\", median_growth)"
   ]
  },
  {
   "cell_type": "markdown",
   "metadata": {},
   "source": [
    "\n",
    "#### 3. Mode (Most Frequent Value)\n",
    "\n",
    "- **Explanation:** The mode is the value that appears most frequently in a data set. A dataset may have one mode, more than one mode, or no mode at all.\n",
    "- **Mathematical Calculation:** Identify the value(s) that appear most frequently.\n",
    "  \n",
    "- **Toy Example:**\n",
    "  - Data: 2, 4, 4, 4, 7, 9, 10\n",
    "  - Calculation: Mode = 4 (it appears most frequently)\n",
    "\n",
    "- **Example:**"
   ]
  },
  {
   "cell_type": "code",
   "execution_count": 4,
   "metadata": {},
   "outputs": [
    {
     "name": "stdout",
     "output_type": "stream",
     "text": [
      "Mode Growth: 4.779156350028978\n"
     ]
    }
   ],
   "source": [
    "mode_growth = data['Growth_cm'].mode()[0]  # [0] is used to select the first mode if there are multiple\n",
    "print(\"Mode Growth:\", mode_growth)"
   ]
  },
  {
   "cell_type": "markdown",
   "metadata": {},
   "source": [
    "## Analysis with Sample Data"
   ]
  },
  {
   "cell_type": "markdown",
   "metadata": {},
   "source": [
    "**All levels of independent variables**"
   ]
  },
  {
   "cell_type": "code",
   "execution_count": 6,
   "metadata": {},
   "outputs": [
    {
     "name": "stdout",
     "output_type": "stream",
     "text": [
      "Table 1: Mean, Median, and Mode for Each Combination of Light Exposure and Light Color\n",
      "\n"
     ]
    },
    {
     "data": {
      "text/html": [
       "<div>\n",
       "<style scoped>\n",
       "    .dataframe tbody tr th:only-of-type {\n",
       "        vertical-align: middle;\n",
       "    }\n",
       "\n",
       "    .dataframe tbody tr th {\n",
       "        vertical-align: top;\n",
       "    }\n",
       "\n",
       "    .dataframe thead th {\n",
       "        text-align: right;\n",
       "    }\n",
       "</style>\n",
       "<table border=\"1\" class=\"dataframe\">\n",
       "  <thead>\n",
       "    <tr style=\"text-align: right;\">\n",
       "      <th></th>\n",
       "      <th></th>\n",
       "      <th>mean</th>\n",
       "      <th>median</th>\n",
       "      <th>mode</th>\n",
       "    </tr>\n",
       "    <tr>\n",
       "      <th>Hours_of_Light</th>\n",
       "      <th>Light_Color</th>\n",
       "      <th></th>\n",
       "      <th></th>\n",
       "      <th></th>\n",
       "    </tr>\n",
       "  </thead>\n",
       "  <tbody>\n",
       "    <tr>\n",
       "      <th rowspan=\"2\" valign=\"top\">4</th>\n",
       "      <th>Blue</th>\n",
       "      <td>6.922786</td>\n",
       "      <td>7.010581</td>\n",
       "      <td>5.336485</td>\n",
       "    </tr>\n",
       "    <tr>\n",
       "      <th>Red</th>\n",
       "      <td>5.900952</td>\n",
       "      <td>5.651223</td>\n",
       "      <td>4.779156</td>\n",
       "    </tr>\n",
       "    <tr>\n",
       "      <th rowspan=\"2\" valign=\"top\">6</th>\n",
       "      <th>Blue</th>\n",
       "      <td>10.468039</td>\n",
       "      <td>10.391584</td>\n",
       "      <td>9.360782</td>\n",
       "    </tr>\n",
       "    <tr>\n",
       "      <th>Red</th>\n",
       "      <td>9.035749</td>\n",
       "      <td>8.817980</td>\n",
       "      <td>7.849006</td>\n",
       "    </tr>\n",
       "    <tr>\n",
       "      <th rowspan=\"2\" valign=\"top\">8</th>\n",
       "      <th>Blue</th>\n",
       "      <td>13.594188</td>\n",
       "      <td>13.432583</td>\n",
       "      <td>12.493665</td>\n",
       "    </tr>\n",
       "    <tr>\n",
       "      <th>Red</th>\n",
       "      <td>12.138287</td>\n",
       "      <td>12.278105</td>\n",
       "      <td>10.040330</td>\n",
       "    </tr>\n",
       "    <tr>\n",
       "      <th rowspan=\"2\" valign=\"top\">10</th>\n",
       "      <th>Blue</th>\n",
       "      <td>17.039419</td>\n",
       "      <td>17.048437</td>\n",
       "      <td>15.803793</td>\n",
       "    </tr>\n",
       "    <tr>\n",
       "      <th>Red</th>\n",
       "      <td>14.386348</td>\n",
       "      <td>14.245669</td>\n",
       "      <td>13.086720</td>\n",
       "    </tr>\n",
       "    <tr>\n",
       "      <th rowspan=\"2\" valign=\"top\">12</th>\n",
       "      <th>Blue</th>\n",
       "      <td>20.064472</td>\n",
       "      <td>20.086652</td>\n",
       "      <td>17.780255</td>\n",
       "    </tr>\n",
       "    <tr>\n",
       "      <th>Red</th>\n",
       "      <td>17.411295</td>\n",
       "      <td>17.581962</td>\n",
       "      <td>16.236960</td>\n",
       "    </tr>\n",
       "  </tbody>\n",
       "</table>\n",
       "</div>"
      ],
      "text/plain": [
       "                                 mean     median       mode\n",
       "Hours_of_Light Light_Color                                 \n",
       "4              Blue          6.922786   7.010581   5.336485\n",
       "               Red           5.900952   5.651223   4.779156\n",
       "6              Blue         10.468039  10.391584   9.360782\n",
       "               Red           9.035749   8.817980   7.849006\n",
       "8              Blue         13.594188  13.432583  12.493665\n",
       "               Red          12.138287  12.278105  10.040330\n",
       "10             Blue         17.039419  17.048437  15.803793\n",
       "               Red          14.386348  14.245669  13.086720\n",
       "12             Blue         20.064472  20.086652  17.780255\n",
       "               Red          17.411295  17.581962  16.236960"
      ]
     },
     "execution_count": 6,
     "metadata": {},
     "output_type": "execute_result"
    }
   ],
   "source": [
    "import pandas as pd\n",
    "\n",
    "# Assuming 'data' is your DataFrame containing the experiment results\n",
    "\n",
    "# Calculating mean, median, and mode for each combination of 'Hours_of_Light' and 'Light_Color'\n",
    "grouped = data.groupby(['Hours_of_Light', 'Light_Color'])['Growth_cm']\n",
    "table1 = grouped.agg(['mean', 'median', lambda x: x.mode()[0]]).rename(columns={'<lambda_0>': 'mode'})\n",
    "print(\"Table 1: Mean, Median, and Mode for Each Combination of Light Exposure and Light Color\\n\")\n",
    "table1"
   ]
  },
  {
   "cell_type": "markdown",
   "metadata": {},
   "source": [
    "**Just levels of light exposure**"
   ]
  },
  {
   "cell_type": "code",
   "execution_count": 8,
   "metadata": {},
   "outputs": [
    {
     "name": "stdout",
     "output_type": "stream",
     "text": [
      "\n",
      "Table 2: Mean, Median, and Mode for Each Level of Light Exposure\n",
      "\n"
     ]
    },
    {
     "data": {
      "text/html": [
       "<div>\n",
       "<style scoped>\n",
       "    .dataframe tbody tr th:only-of-type {\n",
       "        vertical-align: middle;\n",
       "    }\n",
       "\n",
       "    .dataframe tbody tr th {\n",
       "        vertical-align: top;\n",
       "    }\n",
       "\n",
       "    .dataframe thead th {\n",
       "        text-align: right;\n",
       "    }\n",
       "</style>\n",
       "<table border=\"1\" class=\"dataframe\">\n",
       "  <thead>\n",
       "    <tr style=\"text-align: right;\">\n",
       "      <th></th>\n",
       "      <th>mean</th>\n",
       "      <th>median</th>\n",
       "      <th>mode</th>\n",
       "    </tr>\n",
       "    <tr>\n",
       "      <th>Hours_of_Light</th>\n",
       "      <th></th>\n",
       "      <th></th>\n",
       "      <th></th>\n",
       "    </tr>\n",
       "  </thead>\n",
       "  <tbody>\n",
       "    <tr>\n",
       "      <th>4</th>\n",
       "      <td>6.411869</td>\n",
       "      <td>6.408770</td>\n",
       "      <td>4.779156</td>\n",
       "    </tr>\n",
       "    <tr>\n",
       "      <th>6</th>\n",
       "      <td>9.751894</td>\n",
       "      <td>9.914629</td>\n",
       "      <td>7.849006</td>\n",
       "    </tr>\n",
       "    <tr>\n",
       "      <th>8</th>\n",
       "      <td>12.866237</td>\n",
       "      <td>12.832691</td>\n",
       "      <td>10.040330</td>\n",
       "    </tr>\n",
       "    <tr>\n",
       "      <th>10</th>\n",
       "      <td>15.712884</td>\n",
       "      <td>16.137017</td>\n",
       "      <td>13.086720</td>\n",
       "    </tr>\n",
       "    <tr>\n",
       "      <th>12</th>\n",
       "      <td>18.737883</td>\n",
       "      <td>18.477496</td>\n",
       "      <td>16.236960</td>\n",
       "    </tr>\n",
       "  </tbody>\n",
       "</table>\n",
       "</div>"
      ],
      "text/plain": [
       "                     mean     median       mode\n",
       "Hours_of_Light                                 \n",
       "4                6.411869   6.408770   4.779156\n",
       "6                9.751894   9.914629   7.849006\n",
       "8               12.866237  12.832691  10.040330\n",
       "10              15.712884  16.137017  13.086720\n",
       "12              18.737883  18.477496  16.236960"
      ]
     },
     "execution_count": 8,
     "metadata": {},
     "output_type": "execute_result"
    }
   ],
   "source": [
    "# Calculating mean, median, and mode for each level of 'Hours_of_Light' ignoring 'Light_Color'\n",
    "grouped_exposure = data.groupby(['Hours_of_Light'])['Growth_cm']\n",
    "table2 = grouped_exposure.agg(['mean', 'median', lambda x: x.mode()[0]]).rename(columns={'<lambda_0>': 'mode'})\n",
    "print(\"\\nTable 2: Mean, Median, and Mode for Each Level of Light Exposure\\n\")\n",
    "table2"
   ]
  },
  {
   "cell_type": "markdown",
   "metadata": {},
   "source": [
    "**Just levels of light color**"
   ]
  },
  {
   "cell_type": "code",
   "execution_count": 9,
   "metadata": {},
   "outputs": [
    {
     "name": "stdout",
     "output_type": "stream",
     "text": [
      "\n",
      "Table 3: Mean, Median, and Mode for Each Light Color\n",
      "\n"
     ]
    },
    {
     "data": {
      "text/html": [
       "<div>\n",
       "<style scoped>\n",
       "    .dataframe tbody tr th:only-of-type {\n",
       "        vertical-align: middle;\n",
       "    }\n",
       "\n",
       "    .dataframe tbody tr th {\n",
       "        vertical-align: top;\n",
       "    }\n",
       "\n",
       "    .dataframe thead th {\n",
       "        text-align: right;\n",
       "    }\n",
       "</style>\n",
       "<table border=\"1\" class=\"dataframe\">\n",
       "  <thead>\n",
       "    <tr style=\"text-align: right;\">\n",
       "      <th></th>\n",
       "      <th>mean</th>\n",
       "      <th>median</th>\n",
       "      <th>mode</th>\n",
       "    </tr>\n",
       "    <tr>\n",
       "      <th>Light_Color</th>\n",
       "      <th></th>\n",
       "      <th></th>\n",
       "      <th></th>\n",
       "    </tr>\n",
       "  </thead>\n",
       "  <tbody>\n",
       "    <tr>\n",
       "      <th>Blue</th>\n",
       "      <td>13.617781</td>\n",
       "      <td>13.432583</td>\n",
       "      <td>5.336485</td>\n",
       "    </tr>\n",
       "    <tr>\n",
       "      <th>Red</th>\n",
       "      <td>11.774526</td>\n",
       "      <td>12.278105</td>\n",
       "      <td>4.779156</td>\n",
       "    </tr>\n",
       "  </tbody>\n",
       "</table>\n",
       "</div>"
      ],
      "text/plain": [
       "                  mean     median      mode\n",
       "Light_Color                                \n",
       "Blue         13.617781  13.432583  5.336485\n",
       "Red          11.774526  12.278105  4.779156"
      ]
     },
     "execution_count": 9,
     "metadata": {},
     "output_type": "execute_result"
    }
   ],
   "source": [
    "# Calculating mean, median, and mode for each 'Light_Color' ignoring 'Hours_of_Light'\n",
    "grouped_color = data.groupby(['Light_Color'])['Growth_cm']\n",
    "table3 = grouped_color.agg(['mean', 'median', lambda x: x.mode()[0]]).rename(columns={'<lambda_0>': 'mode'})\n",
    "print(\"\\nTable 3: Mean, Median, and Mode for Each Light Color\\n\")\n",
    "table3"
   ]
  },
  {
   "cell_type": "markdown",
   "metadata": {},
   "source": [
    "### Line of Best Fit and Least Squares Regression\n",
    "\n",
    "The line of best fit, or the regression line, is a straight line that best represents the data in a scatter plot. It shows the relationship between the independent (x) and dependent (y) variables. The method of least squares is a standard approach to the approximate solution of overdetermined systems (sets of equations in which there are more equations than unknowns), by minimizing the sum of the squares of the residuals (the differences between observed and predicted values).\n",
    "\n",
    "#### Least Squares Regression Formula:\n",
    "\n",
    "The equation of the line is typically written as: $y = mx + b$, where:\n",
    "- $y$ is the dependent variable,\n",
    "- $x$ is the independent variable,\n",
    "- $m$ is the slope of the line,\n",
    "- $b$ is the y-intercept.\n",
    "\n",
    "To find the slope ($m$) and intercept ($b$), you can use the formulas:\n",
    "- $m = \\frac{n(\\sum xy) - (\\sum x)(\\sum y)}{n(\\sum x^2) - (\\sum x)^2}$\n",
    "- $b = \\frac{(\\sum y) - m(\\sum x)}{n}$\n",
    "\n",
    "where $n$ is the number of observations, $\\sum$ denotes the summation, $x$ and $y$ are the observed values of the independent and dependent variables, respectively.\n",
    "\n",
    "#### Toy Example Calculation:\n",
    "\n",
    "Let's calculate the line of best fit for a small dataset:\n",
    "\n",
    "| x | y |\n",
    "|---|---|\n",
    "| 1 | 2 |\n",
    "| 2 | 3 |\n",
    "| 3 | 5 |\n",
    "\n",
    "1. Calculate the sum of $x$, sum of $y$, sum of $xy$, and sum of $x^2$.\n",
    "2. Plug these sums into the formulas to calculate $m$ and $b$.\n",
    "\n",
    "\n",
    "<details>\n",
    "<summary>Answer</summary>\n",
    "\n",
    "To calculate the regression line by hand for the simple dataset provided, we'll use the least squares method to find the slope ($m$) and intercept ($b$) of the line $y = mx + b$.\n",
    "\n",
    "Given data points:\n",
    "\n",
    "| x | y |\n",
    "|---|---|\n",
    "| 1 | 2 |\n",
    "| 2 | 3 |\n",
    "| 3 | 5 |\n",
    "\n",
    "#### Step 1: Calculate the Means of $x$ and $y$\n",
    "\n",
    "$$\n",
    "\\bar{x} = \\frac{1+2+3}{3} = 2, \\quad \\bar{y} = \\frac{2+3+5}{3} = \\frac{10}{3} \\approx 3.33\n",
    "$$\n",
    "\n",
    "#### Step 2: Calculate the Slope ($m$)\n",
    "\n",
    "The formula for the slope is:\n",
    "\n",
    "$$\n",
    "m = \\frac{n(\\sum xy) - (\\sum x)(\\sum y)}{n(\\sum x^2) - (\\sum x)^2}\n",
    "$$\n",
    "\n",
    "First, calculate the necessary sums:\n",
    "\n",
    "- $\\sum x = 1+2+3 = 6$\n",
    "- $\\sum y = 2+3+5 = 10$\n",
    "- $\\sum xy = (1\\cdot2) + (2\\cdot3) + (3\\cdot5) = 2 + 6 + 15 = 23$\n",
    "- $\\sum x^2 = 1^2 + 2^2 + 3^2 = 1 + 4 + 9 = 14$\n",
    "- $n = 3$ (number of data points)\n",
    "\n",
    "Plug these into the formula:\n",
    "\n",
    "$$\n",
    "m = \\frac{3(23) - (6)(10)}{3(14) - (6)^2} = \\frac{69 - 60}{42 - 36} = \\frac{9}{6} = 1.5\n",
    "$$\n",
    "\n",
    "#### Step 3: Calculate the Intercept ($b$)\n",
    "\n",
    "Use the formula for the intercept:\n",
    "\n",
    "$$\n",
    "b = \\bar{y} - m\\bar{x}\n",
    "$$\n",
    "\n",
    "Plug in the means and the slope:\n",
    "\n",
    "$$\n",
    "b = 3.33 - (1.5)(2) = 3.33 - 3 = 0.33\n",
    "$$\n",
    "\n",
    "#### Step 4: Write the Equation of the Regression Line\n",
    "\n",
    "Now that we have $m = 1.5$ and $b \\approx 0.33$, the equation of the regression line is:\n",
    "\n",
    "$$\n",
    "y = 1.5x + 0.33\n",
    "$$\n",
    "\n",
    "This line best fits the given data according to the least squares method, minimizing the sum of the squares of the vertical distances of the points from the line.\n",
    "\n",
    "</details>\n",
    "\n",
    "\n",
    "#### Calculating Regression Lines for Sample Data:\n",
    "\n",
    "For the plant growth dataset under red and blue lights, you'd separate the data by light color and calculate the regression line for each."
   ]
  },
  {
   "cell_type": "code",
   "execution_count": 11,
   "metadata": {},
   "outputs": [
    {
     "data": {
      "image/png": "[encoded data removed]",
      "text/plain": [
       "<Figure size 1000x600 with 1 Axes>"
      ]
     },
     "metadata": {},
     "output_type": "display_data"
    },
    {
     "name": "stdout",
     "output_type": "stream",
     "text": [
      "Red line of best fit:  y = 1.42x + 0.43\n",
      "Blue line of best fit:  y = 1.64x + 0.48\n"
     ]
    }
   ],
   "source": [
    "import numpy as np\n",
    "import pandas as pd\n",
    "import matplotlib.pyplot as plt\n",
    "from scipy.stats import linregress\n",
    "\n",
    "# Assuming 'data' is your DataFrame with 'Hours_of_Light', 'Growth_cm', and 'Light_Color'\n",
    "\n",
    "# Separate the data by light color\n",
    "data_red = data[data['Light_Color'] == 'Red']\n",
    "data_blue = data[data['Light_Color'] == 'Blue']\n",
    "\n",
    "# Calculate regression lines\n",
    "slope_red, intercept_red, _, _, _ = linregress(data_red['Hours_of_Light'], data_red['Growth_cm'])\n",
    "slope_blue, intercept_blue, _, _, _ = linregress(data_blue['Hours_of_Light'], data_blue['Growth_cm'])\n",
    "\n",
    "# Plotting\n",
    "plt.figure(figsize=(10, 6))\n",
    "plt.scatter(data_red['Hours_of_Light'], data_red['Growth_cm'], color='red', label='Red Light')\n",
    "plt.scatter(data_blue['Hours_of_Light'], data_blue['Growth_cm'], color='blue', label='Blue Light')\n",
    "\n",
    "# Add regression lines\n",
    "plt.plot(data_red['Hours_of_Light'], intercept_red + slope_red * data_red['Hours_of_Light'], 'r--')\n",
    "plt.plot(data_blue['Hours_of_Light'], intercept_blue + slope_blue * data_blue['Hours_of_Light'], 'b--')\n",
    "\n",
    "plt.title('Plant Growth Under Different Light Colors')\n",
    "plt.xlabel('Hours of Light')\n",
    "plt.ylabel('Growth (cm)')\n",
    "plt.legend()\n",
    "plt.show()\n",
    "\n",
    "print(f\"Red line of best fit:  y = {slope_red:.2f}x + {intercept_red:.2f}\")\n",
    "print(f\"Blue line of best fit:  y = {slope_blue:.2f}x + {intercept_blue:.2f}\")\n"
   ]
  },
  {
   "cell_type": "markdown",
   "metadata": {},
   "source": [
    "Percent error is a measure used to determine the accuracy of an experimental value compared to a known or accepted value. It shows the discrepancy between an experimental value and a true value as a percentage of the true value. This can be particularly useful in scientific experiments to gauge the precision of measurements or the effectiveness of experimental techniques.\n",
    "\n",
    "### Formula for Percent Error\n",
    "\n",
    "The formula to calculate percent error is:\n",
    "\n",
    "$$\n",
    "\\text{Percent Error} = \\left( \\frac{\\text{Experimental Value} - \\text{True Value}}{\\text{True Value}} \\right) \\times 100\\%\n",
    "$$\n",
    "\n",
    "### Worked Example\n",
    "\n",
    "Suppose you are conducting an experiment to measure the boiling point of water at sea level. The accepted true value for the boiling point of water at sea level is 100°C.\n",
    "\n",
    "- **Experimental Value:** Let's say you measure the boiling point to be 98°C.\n",
    "- **True Value:** The accepted value is 100°C.\n",
    "\n",
    "Using the percent error formula:\n",
    "\n",
    "$$\n",
    "\\text{Percent Error} = \\left( \\frac{98°C - 100°C}{100°C} \\right) \\times 100\\% = \\left( \\frac{-2°C}{100°C} \\right) \\times 100\\% = -2\\%\n",
    "$$\n",
    "\n",
    "### Interpretation\n",
    "\n",
    "A percent error of -2% indicates that the experimental value is 2% less than the true value. The negative sign shows that the experimental value is below the true value. In practice, the absolute value of percent error is often used to discuss the magnitude of error without regard to direction, making it clear how close the experimental value is to the true value regardless of being higher or lower."
   ]
  },
  {
   "cell_type": "markdown",
   "metadata": {},
   "source": [
    "### Variability Measures: Range, Interquartile Range (IQR), Frequency Table, and Histogram\n",
    "\n",
    "Variability measures help us understand the spread or dispersion of data around the central tendency. They are crucial for describing the distribution and identifying the variability within the dataset.\n",
    "\n",
    "#### Range\n",
    "\n",
    "- **Explanation:** The range is the difference between the maximum and minimum values in a dataset. It gives us an idea of the spread of the data.\n",
    "- **Example:**\n",
    "  - Data: 3, 7, 5, 9, 1\n",
    "  - Calculation: Maximum value = 9, Minimum value = 1, Range = 9 - 1 = 8\n",
    "\n",
    "- **Example with the sample data:**\n"
   ]
  },
  {
   "cell_type": "code",
   "execution_count": 12,
   "metadata": {},
   "outputs": [
    {
     "name": "stdout",
     "output_type": "stream",
     "text": [
      "Range: 16.65184317246697\n"
     ]
    }
   ],
   "source": [
    "range_value = data['Growth_cm'].max() - data['Growth_cm'].min()\n",
    "print(\"Range:\", range_value)"
   ]
  },
  {
   "cell_type": "markdown",
   "metadata": {},
   "source": [
    "\n",
    "#### Interquartile Range (IQR)\n",
    "\n",
    "- **Explanation:** IQR measures the variability of the middle 50% of the data. It's calculated as the difference between the 75th percentile (Q3) and the 25th percentile (Q1) of the data.\n",
    "- **Introducing Quartiles:** Quartiles divide the data into four equal parts. Q1 is the median of the first half of the data, Q3 is the median of the second half, and Q2 is the overall median.\n",
    "- **Example:**\n",
    "  - Data: 2, 3, 5, 7, 11\n",
    "  - Calculation: Q1 = 3, Q3 = 7, IQR = Q3 - Q1 = 4\n",
    "\n",
    "- **Example 2: Odd Number of Data Points**\n",
    "\n",
    "Calculating quartiles when you have an uneven number of data points involves a few steps, and whether you include the median in each half depends on the convention you follow. However, a common method is described below, which does not include the median in the halves if the total number of data points is odd.\n",
    "\n",
    "1. **Order Your Data:** Arrange your data points from smallest to largest.\n",
    "\n",
    "2. **Find the Median (Q2):** The median is the middle value of the ordered dataset. With an odd number of data points, the median is the central number. For an even number of data points, it's the average of the two central numbers.\n",
    "\n",
    "3. **Divide the Data:** Once you find the median, divide your dataset into two halves:\n",
    "   - The lower half consists of all data points below the median.\n",
    "   - The upper half consists of all data points above the median.\n",
    "   \n",
    "   For an odd number of data points, do not include the median in either half.\n",
    "\n",
    "4. **Calculate Q1 and Q3:**\n",
    "   - **Q1 (First Quartile):** The median of the lower half. This divides the bottom 25% of data from the top 75%.\n",
    "   - **Q3 (Third Quartile):** The median of the upper half. This divides the bottom 75% of data from the top 25%.\n",
    "\n",
    "\n",
    "Consider the dataset: 2, 3, 5, 7, 11, 13, 17 (7 data points)\n",
    "\n",
    "- **Ordered Data:** 2, 3, 5, 7, 11, 13, 17\n",
    "- **Median (Q2):** 7 (the fourth value, leaving three values on either side)\n",
    "- **Lower Half (for Q1):** 2, 3, 5\n",
    "- **Upper Half (for Q3):** 11, 13, 17\n",
    "- **Q1:** The median of 2, 3, 5 is 3.\n",
    "- **Q3:** The median of 11, 13, 17 is 13.\n",
    "\n",
    "### Key Points\n",
    "\n",
    "- **For an odd number of data points,** the median is not included in the lower and upper halves when calculating Q1 and Q3.\n",
    "- **For an even number of data points,** the dataset is split in half, and if calculating Q1 and Q3 results in needing an average of two middle numbers, take that average.\n",
    "\n",
    "- **Sample Data Example:**\n"
   ]
  },
  {
   "cell_type": "code",
   "execution_count": 13,
   "metadata": {},
   "outputs": [
    {
     "name": "stdout",
     "output_type": "stream",
     "text": [
      "IQR: 7.68200827232646\n"
     ]
    }
   ],
   "source": [
    "Q1 = data['Growth_cm'].quantile(0.25)\n",
    "Q3 = data['Growth_cm'].quantile(0.75)\n",
    "IQR = Q3 - Q1\n",
    "print(\"IQR:\", IQR)"
   ]
  },
  {
   "cell_type": "markdown",
   "metadata": {},
   "source": [
    "\n",
    "#### Frequency Table\n",
    "\n",
    "- **Explanation:** A frequency table shows how often each value or range of values occurs in the dataset.\n",
    "- **Example:**\n",
    "  - Data: 1, 2, 2, 3, 3, 3, 4\n",
    "  - Frequency Table:\n",
    "    - 1: 1 time\n",
    "    - 2: 2 times\n",
    "    - 3: 3 times\n",
    "    - 4: 1 time\n",
    "\n",
    "- **Sample Data Example:**\n"
   ]
  },
  {
   "cell_type": "code",
   "execution_count": 14,
   "metadata": {},
   "outputs": [
    {
     "name": "stdout",
     "output_type": "stream",
     "text": [
      "Frequency Table:\n",
      " Growth_cm\n",
      "4.779156     1\n",
      "5.280156     1\n",
      "5.336485     1\n",
      "5.398293     1\n",
      "5.437712     1\n",
      "            ..\n",
      "20.165413    1\n",
      "20.913267    1\n",
      "21.212526    1\n",
      "21.375545    1\n",
      "21.431000    1\n",
      "Name: count, Length: 100, dtype: int64\n"
     ]
    }
   ],
   "source": [
    "frequency_table = data['Growth_cm'].value_counts().sort_index()\n",
    "print(\"Frequency Table:\\n\", frequency_table)"
   ]
  },
  {
   "cell_type": "markdown",
   "metadata": {},
   "source": [
    "\n",
    "#### Histogram\n",
    "\n",
    "- **Explanation:** A histogram is a graphical representation of a frequency table, with bars representing the frequency of data in consecutive intervals.\n",
    "- **Example:** For the data used in the frequency table example, a histogram would have bars of different heights representing the frequencies of 1, 2, 3, and 4.\n",
    "- **Sample Data Example:**"
   ]
  },
  {
   "cell_type": "code",
   "execution_count": 16,
   "metadata": {},
   "outputs": [
    {
     "data": {
      "image/png": "[encoded data removed]",
      "text/plain": [
       "<Figure size 1200x600 with 2 Axes>"
      ]
     },
     "metadata": {},
     "output_type": "display_data"
    }
   ],
   "source": [
    "import matplotlib.pyplot as plt\n",
    "\n",
    "# Assuming 'data' is your DataFrame with the experiment's results\n",
    "\n",
    "# Filtering the data for red and blue light\n",
    "data_red = data[data['Light_Color'] == 'Red']['Growth_cm']\n",
    "data_blue = data[data['Light_Color'] == 'Blue']['Growth_cm']\n",
    "\n",
    "# Setting up the plot\n",
    "fig, axs = plt.subplots(1, 2, figsize=(12, 6), sharey=True)\n",
    "\n",
    "# Plotting the histograms\n",
    "axs[0].hist(data_red, color='red', alpha=0.7, bins=10)\n",
    "axs[0].set_title('Growth under Red Light')\n",
    "axs[0].set_xlabel('Growth (cm)')\n",
    "axs[0].set_ylabel('Frequency')\n",
    "\n",
    "axs[1].hist(data_blue, color='blue', alpha=0.7, bins=10)\n",
    "axs[1].set_title('Growth under Blue Light')\n",
    "axs[1].set_xlabel('Growth (cm)')\n",
    "\n",
    "# Show the plot\n",
    "plt.tight_layout()\n",
    "plt.show()\n"
   ]
  },
  {
   "cell_type": "markdown",
   "metadata": {},
   "source": [
    "\n",
    "These examples illustrate how to calculate and interpret key measures of variability, providing insights into the distribution and spread of data in your experiments."
   ]
  },
  {
   "cell_type": "markdown",
   "metadata": {},
   "source": [
    "### Standard Deviation: Intuition and Calculation\n",
    "\n",
    "Standard deviation is a statistical measure that quantifies the amount of variation or dispersion in a set of data values. A low standard deviation indicates that the data points tend to be close to the mean (average) of the set, while a high standard deviation indicates that the data points are spread out over a wider range of values.\n",
    "\n",
    "#### Intuition\n",
    "\n",
    "Imagine you have test scores from two different classes. If one class has scores very close to the average score and another has scores that vary widely, the first class has a low standard deviation, while the second has a high standard deviation. Standard deviation gives us a numerical way to capture this idea of \"spread\" or \"dispersion.\"\n",
    "\n",
    "#### Equation for Standard Deviation\n",
    "\n",
    "The formula to calculate the standard deviation ($\\sigma$) for a population is:\n",
    "\n",
    "$$\n",
    "\\sigma = \\sqrt{\\frac{\\sum (x_i - \\mu)^2}{N}}\n",
    "$$\n",
    "\n",
    "where:\n",
    "- $x_i$ represents each value in the dataset,\n",
    "- $\\mu$ is the mean of the dataset,\n",
    "- $N$ is the total number of values in the dataset,\n",
    "- $\\sum$ denotes the summation.\n",
    "\n",
    "For a sample (as opposed to a whole population), the formula adjusts the denominator to $N-1$ to correct for the bias in estimating a population standard deviation from a sample. This is known as Bessel's correction.\n",
    "\n",
    "#### Worked Example\n",
    "\n",
    "Given the dataset: 2, 4, 4, 4, 5, 5, 7, 9\n",
    "\n",
    "1. Calculate the mean: $\\mu = \\frac{2 + 4 + 4 + 4 + 5 + 5 + 7 + 9}{8} = 5$\n",
    "2. Subtract the mean and square the result for each observation:\n",
    "   - $(2-5)^2 = 9$\n",
    "   - $(4-5)^2 = 1$\n",
    "   - $(4-5)^2 = 1$, and so on.\n",
    "3. Sum these values: $9 + 1 + 1 + 1 + 0 + 0 + 4 + 16 = 32$\n",
    "4. Divide by the number of data points (for a population): $32 / 8 = 4$\n",
    "5. Take the square root: $\\sqrt{4} = 2$\n",
    "\n",
    "So, the standard deviation of our dataset is 2.\n",
    "\n",
    "#### Graphical Representation\n",
    "\n",
    "A normal distribution graph with annotations for the standard deviations can visually demonstrate how data points are distributed around the mean. Typically, about 68% of values lie within one standard deviation of the mean, 95% within two standard deviations, and 99.7% within three standard deviations."
   ]
  },
  {
   "cell_type": "code",
   "execution_count": 17,
   "metadata": {},
   "outputs": [
    {
     "data": {
      "image/png": "[encoded data removed]",
      "text/plain": [
       "<Figure size 640x480 with 1 Axes>"
      ]
     },
     "metadata": {},
     "output_type": "display_data"
    }
   ],
   "source": [
    "import numpy as np\n",
    "import matplotlib.pyplot as plt\n",
    "import scipy.stats as stats\n",
    "\n",
    "# Generate a normal distribution with a mean of 5 and standard deviation of 2\n",
    "mu = 5\n",
    "sigma = 2\n",
    "x = np.linspace(mu - 3*sigma, mu + 3*sigma, 100)\n",
    "plt.plot(x, stats.norm.pdf(x, mu, sigma))\n",
    "\n",
    "# Annotations for standard deviations\n",
    "plt.fill_between(x, stats.norm.pdf(x, mu, sigma), where=(x < mu + sigma) & (x > mu - sigma), color='blue', alpha=0.1, label='1 SD')\n",
    "plt.fill_between(x, stats.norm.pdf(x, mu, sigma), where=(x < mu + 2*sigma) & (x > mu - 2*sigma), color='green', alpha=0.1, label='2 SD')\n",
    "plt.fill_between(x, stats.norm.pdf(x, mu, sigma), where=(x < mu + 3*sigma) & (x > mu - 3*sigma), color='red', alpha=0.1, label='3 SD')\n",
    "\n",
    "plt.legend()\n",
    "plt.title('Normal Distribution with Standard Deviations')\n",
    "plt.xlabel('Value')\n",
    "plt.ylabel('Probability Density')\n",
    "plt.show()"
   ]
  }
 ],
 "metadata": {
  "kernelspec": {
   "display_name": "Python 3",
   "language": "python",
   "name": "python3"
  },
  "language_info": {
   "codemirror_mode": {
    "name": "ipython",
    "version": 3
   },
   "file_extension": ".py",
   "mimetype": "text/x-python",
   "name": "python",
   "nbconvert_exporter": "python",
   "pygments_lexer": "ipython3",
   "version": "3.10.13"
  }
 },
 "nbformat": 4,
 "nbformat_minor": 2
}
